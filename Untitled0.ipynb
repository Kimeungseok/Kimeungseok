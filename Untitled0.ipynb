{
  "nbformat": 4,
  "nbformat_minor": 0,
  "metadata": {
    "colab": {
      "provenance": [],
      "toc_visible": true,
      "authorship_tag": "ABX9TyPSHGnE65t+Tg32pVBXSDSX",
      "include_colab_link": true
    },
    "kernelspec": {
      "name": "python3",
      "display_name": "Python 3"
    },
    "language_info": {
      "name": "python"
    }
  },
  "cells": [
    {
      "cell_type": "markdown",
      "metadata": {
        "id": "view-in-github",
        "colab_type": "text"
      },
      "source": [
        "<a href=\"https://colab.research.google.com/github/Kimeungseok/Kimeungseok/blob/main/Untitled0.ipynb\" target=\"_parent\"><img src=\"https://colab.research.google.com/assets/colab-badge.svg\" alt=\"Open In Colab\"/></a>"
      ]
    },
    {
      "cell_type": "markdown",
      "source": [
        "# 파이썬 문자열 처리 1\n"
      ],
      "metadata": {
        "id": "dKJumqYTvIjO"
      }
    },
    {
      "cell_type": "markdown",
      "source": [
        "파이썬 문자열 처리 : 인덱싱, 슬라이싱"
      ],
      "metadata": {
        "id": "l5y5ERHpBjQx"
      }
    },
    {
      "cell_type": "code",
      "source": [
        "m_pay = 48584                     # 월 납입액\n",
        "m_period = 36                     # 기간\n",
        "total = m_pay * m_period          # 총액\n",
        "print(total)"
      ],
      "metadata": {
        "colab": {
          "base_uri": "https://localhost:8080/"
        },
        "id": "zbAS00m05W02",
        "outputId": "eb6b3f51-8b02-4d3f-8c46-0eee3f64d5d9"
      },
      "execution_count": 23,
      "outputs": [
        {
          "output_type": "stream",
          "name": "stdout",
          "text": [
            "1749024\n"
          ]
        }
      ]
    },
    {
      "cell_type": "code",
      "source": [
        "letters = \"python\"\n",
        "print(letters[0], letters[3])\n",
        "\n",
        "li_plate = \"04머 2673\"\n",
        "print(li_plate[-4:])    # 뒤에서 4글자만\n",
        "print(li_plate[4:])     # 뒤에서 4글자만\n",
        "\n",
        "string = \"홀짝홀짝홀짝\"\n",
        "print(string[::1])      # 시작, 끝, 오프셋\n",
        "print(string[::2])      # 시작, 끝, 오프셋\n",
        "print(string[::3])      # 시작, 끝, 오프셋\n",
        "\n",
        "string = \"PYTHON\"\n",
        "print(string[::-1])      # 시작, 끝, -1은 역순\n",
        "print(string[::-2])\n",
        "print(string[::-3])      # 시작, 끝, -1은 역순\n",
        "\n",
        "phone_number = \"010-1111-2222\"\n",
        "phone_number1 = phone_number.replace(\"-\", \" \")      # 하이폰 없애기\n",
        "phone_number2 = phone_number.replace(\"-\", \"\")       # 하이폰 없애기, 사이없애기\n",
        "print(phone_number1)\n",
        "print(phone_number2)\n",
        "\n",
        "url = \"http://sharebook.kr\"\n",
        "url_split = url.split('.')      # 문자열 구분\n",
        "print(url_split[-1])            # 문자열 선택\n",
        "print(url_split[1])             # 문자열 선택\n",
        "print(url_split[-2])            # 문자열 선택\n",
        "\n",
        "# 문자열을 수정할 수 없으나 변경은 가능함 #\n",
        "\n",
        "string = 'abcdfe2a354a32a'\n",
        "string = string.replace('a', 'A')   # 소문자를 대문자로\n",
        "letters = \"python\"\n",
        "print(letters[0], letters[3])\n",
        "\n",
        "li_plate = \"04머 2673\"\n",
        "print(li_plate[-4:])    # 뒤에서 4글자만\n",
        "print(li_plate[4:])     # 뒤에서 4글자만\n",
        "\n",
        "string = \"홀짝홀짝홀짝\"\n",
        "print(string[::1])      # 시작, 끝, 오프셋\n",
        "print(string[::2])      # 시작, 끝, 오프셋\n",
        "print(string[::3])      # 시작, 끝, 오프셋\n",
        "\n",
        "string = \"PYTHON\"\n",
        "print(string[::-1])      # 시작, 끝, -1은 역순\n",
        "print(string[::-2])\n",
        "print(string[::-3])      # 시작, 끝, -1은 역순\n",
        "\n",
        "phone_number = \"010-1111-2222\"\n",
        "phone_number1 = phone_number.replace(\"-\", \" \")      # 하이폰 없애기\n",
        "phone_number2 = phone_number.replace(\"-\", \"\")       # 하이폰 없애기, 사이없애기\n",
        "print(phone_number1)\n",
        "print(phone_number2)\n",
        "\n",
        "url = \"http://sharebook.kr\"\n",
        "url_split = url.split('.')      # 문자열 구분\n",
        "print(url_split[-1])            # 문자열 선택\n",
        "print(url_split[1])             # 문자열 선택\n",
        "print(url_split[-2])            # 문자열 선택\n",
        "\n",
        "# 문자열을 수정할 수 없으나 변경은 가능함 #\n",
        "\n",
        "string = 'abcdfe2a354a32a'\n",
        "string = string.replace('a', 'A')   # 소문자를 대문자로\n",
        "print(string)\n",
        "\n",
        "string1 = 'abcd'\n",
        "string1 = string1.replace('b', 'B') # You need to reassign the value\n",
        "print(string1)\n"
      ],
      "metadata": {
        "colab": {
          "base_uri": "https://localhost:8080/"
        },
        "id": "hEeNahOt9uLm",
        "outputId": "bf221372-a402-4966-a405-5c5e2d334d39"
      },
      "execution_count": 48,
      "outputs": [
        {
          "output_type": "stream",
          "name": "stdout",
          "text": [
            "p h\n",
            "2673\n",
            "2673\n",
            "홀짝홀짝홀짝\n",
            "홀홀홀\n",
            "홀짝\n",
            "NOHTYP\n",
            "NHY\n",
            "NT\n",
            "010 1111 2222\n",
            "01011112222\n",
            "kr\n",
            "kr\n",
            "http://sharebook\n",
            "p h\n",
            "2673\n",
            "2673\n",
            "홀짝홀짝홀짝\n",
            "홀홀홀\n",
            "홀짝\n",
            "NOHTYP\n",
            "NHY\n",
            "NT\n",
            "010 1111 2222\n",
            "01011112222\n",
            "kr\n",
            "kr\n",
            "http://sharebook\n",
            "Abcdfe2A354A32A\n",
            "aBcd\n"
          ]
        }
      ]
    },
    {
      "cell_type": "markdown",
      "source": [
        "# 파이썬 문자열 처리 2\n"
      ],
      "metadata": {
        "id": "2WrtB2DIBzyA"
      }
    },
    {
      "cell_type": "code",
      "source": [],
      "metadata": {
        "id": "lzgsObCkB8Ls"
      },
      "execution_count": null,
      "outputs": []
    }
  ]
}