{
  "nbformat": 4,
  "nbformat_minor": 0,
  "metadata": {
    "colab": {
      "provenance": [],
      "authorship_tag": "ABX9TyPK2nQ/QTjnl6xTxYf1y5mJ",
      "include_colab_link": true
    },
    "kernelspec": {
      "name": "python3",
      "display_name": "Python 3"
    },
    "language_info": {
      "name": "python"
    }
  },
  "cells": [
    {
      "cell_type": "markdown",
      "metadata": {
        "id": "view-in-github",
        "colab_type": "text"
      },
      "source": [
        "<a href=\"https://colab.research.google.com/github/Kimeungseok/Kimeungseok/blob/main/M_learning_ipynb.ipynb\" target=\"_parent\"><img src=\"https://colab.research.google.com/assets/colab-badge.svg\" alt=\"Open In Colab\"/></a>"
      ]
    },
    {
      "cell_type": "markdown",
      "source": [
        "# 로직스틱 회귀분석 머시러닝"
      ],
      "metadata": {
        "id": "GR-PZ9193EfJ"
      }
    },
    {
      "cell_type": "code",
      "execution_count": null,
      "metadata": {
        "id": "izznkKrtsOXn"
      },
      "outputs": [],
      "source": [
        "import pandas\n",
        "aaa = pandas.read_csv('b_cancer.csv')\n",
        "\n",
        "# 문자 -> 숫자 변환(0,1)\n",
        "\n",
        "aaa['Class'] = aaa['Class'].map({'malignant':1, 'benign':0})\n",
        "\n",
        "aaa.head(10)"
      ]
    },
    {
      "cell_type": "code",
      "source": [
        "# 결측치 확인 및 처리 -> 일단 평균으로 대체 #\n",
        "\n",
        "aaa.isnull().sum()\n",
        "\n",
        "aaa['Bare.nuclei'].fillna(value=aaa['Bare.nuclei'].mean(), inplace=True)\n",
        "\n",
        "aaa.isnull().sum()\n",
        "\n",
        "# features, 결과 정의 #\n",
        "\n",
        "features1 = aaa[['Cl.thickness','Cell.size','Cell.shape','Marg.adhesion',\n",
        "                 'Epith.c.size','Bare.nuclei','Bl.cromatin','Normal.nucleoli',\n",
        "                 'Mitoses']]\n",
        "judges = aaa['Class']"
      ],
      "metadata": {
        "id": "ELsehjhkyLZq"
      },
      "execution_count": 23,
      "outputs": []
    },
    {
      "cell_type": "code",
      "source": [
        "# 학습 데이터셋, Test 데이터셋 구분 #\n",
        "\n",
        "\n",
        "from sklearn.model_selection import train_test_split\n",
        "\n",
        "trset1, ttset1, trlabel1, ttlabel1 = train_test_split(features1, judges, test_size=0.25, random_state=42)\n",
        "\n",
        "print(len(trset1), len(ttset1))"
      ],
      "metadata": {
        "colab": {
          "base_uri": "https://localhost:8080/"
        },
        "id": "fhfxW8Lrt3UI",
        "outputId": "a5219942-e992-46f5-e05b-b06e3693ae91"
      },
      "execution_count": 36,
      "outputs": [
        {
          "output_type": "stream",
          "name": "stdout",
          "text": [
            "524 175\n"
          ]
        }
      ]
    },
    {
      "cell_type": "code",
      "source": [
        "# 데이터 정규화 #\n",
        "\n",
        "from sklearn.preprocessing import StandardScaler\n",
        "\n",
        "trans1 = StandardScaler()\n",
        "\n",
        "trset1 = trans1.fit_transform(trset1)\n",
        "ttset1 = trans1.fit_transform(ttset1)\n",
        "\n",
        "# print(tr_set1)\n",
        "# print(tt_set1)"
      ],
      "metadata": {
        "id": "1SaOuyRWzhJe"
      },
      "execution_count": 32,
      "outputs": []
    },
    {
      "cell_type": "code",
      "source": [
        "# Logistic 회귀 분석 학습 #\n",
        "\n",
        "\n",
        "from sklearn.linear_model import LogisticRegression\n",
        "\n",
        "model1 = LogisticRegression()\n",
        "model1.fit(trset1, trlabel1)\n",
        "\n",
        "LogisticRegression()"
      ],
      "metadata": {
        "colab": {
          "base_uri": "https://localhost:8080/",
          "height": 75
        },
        "id": "Eel9c2fWvKze",
        "outputId": "bcf79e58-c186-4ab5-de9c-a3b1068a90f1"
      },
      "execution_count": 38,
      "outputs": [
        {
          "output_type": "execute_result",
          "data": {
            "text/plain": [
              "LogisticRegression()"
            ],
            "text/html": [
              "<style>#sk-container-id-2 {color: black;background-color: white;}#sk-container-id-2 pre{padding: 0;}#sk-container-id-2 div.sk-toggleable {background-color: white;}#sk-container-id-2 label.sk-toggleable__label {cursor: pointer;display: block;width: 100%;margin-bottom: 0;padding: 0.3em;box-sizing: border-box;text-align: center;}#sk-container-id-2 label.sk-toggleable__label-arrow:before {content: \"▸\";float: left;margin-right: 0.25em;color: #696969;}#sk-container-id-2 label.sk-toggleable__label-arrow:hover:before {color: black;}#sk-container-id-2 div.sk-estimator:hover label.sk-toggleable__label-arrow:before {color: black;}#sk-container-id-2 div.sk-toggleable__content {max-height: 0;max-width: 0;overflow: hidden;text-align: left;background-color: #f0f8ff;}#sk-container-id-2 div.sk-toggleable__content pre {margin: 0.2em;color: black;border-radius: 0.25em;background-color: #f0f8ff;}#sk-container-id-2 input.sk-toggleable__control:checked~div.sk-toggleable__content {max-height: 200px;max-width: 100%;overflow: auto;}#sk-container-id-2 input.sk-toggleable__control:checked~label.sk-toggleable__label-arrow:before {content: \"▾\";}#sk-container-id-2 div.sk-estimator input.sk-toggleable__control:checked~label.sk-toggleable__label {background-color: #d4ebff;}#sk-container-id-2 div.sk-label input.sk-toggleable__control:checked~label.sk-toggleable__label {background-color: #d4ebff;}#sk-container-id-2 input.sk-hidden--visually {border: 0;clip: rect(1px 1px 1px 1px);clip: rect(1px, 1px, 1px, 1px);height: 1px;margin: -1px;overflow: hidden;padding: 0;position: absolute;width: 1px;}#sk-container-id-2 div.sk-estimator {font-family: monospace;background-color: #f0f8ff;border: 1px dotted black;border-radius: 0.25em;box-sizing: border-box;margin-bottom: 0.5em;}#sk-container-id-2 div.sk-estimator:hover {background-color: #d4ebff;}#sk-container-id-2 div.sk-parallel-item::after {content: \"\";width: 100%;border-bottom: 1px solid gray;flex-grow: 1;}#sk-container-id-2 div.sk-label:hover label.sk-toggleable__label {background-color: #d4ebff;}#sk-container-id-2 div.sk-serial::before {content: \"\";position: absolute;border-left: 1px solid gray;box-sizing: border-box;top: 0;bottom: 0;left: 50%;z-index: 0;}#sk-container-id-2 div.sk-serial {display: flex;flex-direction: column;align-items: center;background-color: white;padding-right: 0.2em;padding-left: 0.2em;position: relative;}#sk-container-id-2 div.sk-item {position: relative;z-index: 1;}#sk-container-id-2 div.sk-parallel {display: flex;align-items: stretch;justify-content: center;background-color: white;position: relative;}#sk-container-id-2 div.sk-item::before, #sk-container-id-2 div.sk-parallel-item::before {content: \"\";position: absolute;border-left: 1px solid gray;box-sizing: border-box;top: 0;bottom: 0;left: 50%;z-index: -1;}#sk-container-id-2 div.sk-parallel-item {display: flex;flex-direction: column;z-index: 1;position: relative;background-color: white;}#sk-container-id-2 div.sk-parallel-item:first-child::after {align-self: flex-end;width: 50%;}#sk-container-id-2 div.sk-parallel-item:last-child::after {align-self: flex-start;width: 50%;}#sk-container-id-2 div.sk-parallel-item:only-child::after {width: 0;}#sk-container-id-2 div.sk-dashed-wrapped {border: 1px dashed gray;margin: 0 0.4em 0.5em 0.4em;box-sizing: border-box;padding-bottom: 0.4em;background-color: white;}#sk-container-id-2 div.sk-label label {font-family: monospace;font-weight: bold;display: inline-block;line-height: 1.2em;}#sk-container-id-2 div.sk-label-container {text-align: center;}#sk-container-id-2 div.sk-container {/* jupyter's `normalize.less` sets `[hidden] { display: none; }` but bootstrap.min.css set `[hidden] { display: none !important; }` so we also need the `!important` here to be able to override the default hidden behavior on the sphinx rendered scikit-learn.org. See: https://github.com/scikit-learn/scikit-learn/issues/21755 */display: inline-block !important;position: relative;}#sk-container-id-2 div.sk-text-repr-fallback {display: none;}</style><div id=\"sk-container-id-2\" class=\"sk-top-container\"><div class=\"sk-text-repr-fallback\"><pre>LogisticRegression()</pre><b>In a Jupyter environment, please rerun this cell to show the HTML representation or trust the notebook. <br />On GitHub, the HTML representation is unable to render, please try loading this page with nbviewer.org.</b></div><div class=\"sk-container\" hidden><div class=\"sk-item\"><div class=\"sk-estimator sk-toggleable\"><input class=\"sk-toggleable__control sk-hidden--visually\" id=\"sk-estimator-id-2\" type=\"checkbox\" checked><label for=\"sk-estimator-id-2\" class=\"sk-toggleable__label sk-toggleable__label-arrow\">LogisticRegression</label><div class=\"sk-toggleable__content\"><pre>LogisticRegression()</pre></div></div></div></div></div>"
            ]
          },
          "metadata": {},
          "execution_count": 38
        }
      ]
    },
    {
      "cell_type": "code",
      "source": [
        "# 학습 모델 성능 검사 #\n",
        "\n",
        "accu_tr1 = model1.score(trset1, trlabel1)\n",
        "accu_tt1 = model1.score(ttset1, ttlabel1)\n",
        "\n",
        "print('학습데이터 정확도 : ', round(accu_tr1,3))\n",
        "print('검증데이터 정확도 : ', round(accu_tt1,3))\n",
        "\n"
      ],
      "metadata": {
        "colab": {
          "base_uri": "https://localhost:8080/"
        },
        "id": "L7Puqqxo7Sn8",
        "outputId": "a8c94926-b349-4097-f0bd-78f83df3c4a4"
      },
      "execution_count": 68,
      "outputs": [
        {
          "output_type": "stream",
          "name": "stdout",
          "text": [
            "학습데이터 정확도 :  0.956\n",
            "검증데이터 정확도 :  0.983\n"
          ]
        }
      ]
    },
    {
      "cell_type": "code",
      "source": [
        "# 로지스틱 회귀 계수 확인 #\n",
        "\n",
        "model1.coef_\n"
      ],
      "metadata": {
        "colab": {
          "base_uri": "https://localhost:8080/"
        },
        "id": "cfgP7msp8Om3",
        "outputId": "890eabcf-4966-4a33-ae5c-28d002c0ea1a"
      },
      "execution_count": 42,
      "outputs": [
        {
          "output_type": "execute_result",
          "data": {
            "text/plain": [
              "array([[ 0.50950053, -0.03402653,  0.43683193,  0.19527758,  0.14742928,\n",
              "         0.42291096,  0.38632809, -0.01193166,  0.36936928]])"
            ]
          },
          "metadata": {},
          "execution_count": 42
        }
      ]
    },
    {
      "cell_type": "code",
      "source": [
        "# 새로운 데이터에 대한 예측 #\n",
        "\n",
        "\n",
        "import pandas\n",
        "bbb = pandas.read_csv('b_cancer_new.csv')\n",
        "\n",
        "# bbb.head()\n",
        "\n",
        "from sklearn.preprocessing import StandardScaler\n",
        "\n",
        "features2 = bbb[['Cl.thickness','Cell.size','Cell.shape','Marg.adhesion',\n",
        "                 'Epith.c.size','Bare.nuclei','Bl.cromatin','Normal.nucleoli',\n",
        "                 'Mitoses']]\n",
        "\n",
        "trans1 = StandardScaler()\n",
        "bbb = trans1.fit_transform(bbb)\n",
        "\n",
        "\n",
        "pre1 = model1.predict(features2)\n",
        "print(pre1)\n",
        "\n",
        "# 새로운 데이터에 대한 확률 #\n",
        "\n",
        "model1.predict_proba(features2)\n"
      ],
      "metadata": {
        "colab": {
          "base_uri": "https://localhost:8080/"
        },
        "id": "UarF5hLU9PH6",
        "outputId": "0d18cfdd-e3ba-4fdc-e562-8f3039cc7698"
      },
      "execution_count": 54,
      "outputs": [
        {
          "output_type": "stream",
          "name": "stdout",
          "text": [
            "[0 1 0 1]\n"
          ]
        },
        {
          "output_type": "execute_result",
          "data": {
            "text/plain": [
              "array([[0.94864971, 0.05135029],\n",
              "       [0.33842023, 0.66157977],\n",
              "       [0.99115447, 0.00884553],\n",
              "       [0.02363114, 0.97636886]])"
            ]
          },
          "metadata": {},
          "execution_count": 54
        }
      ]
    },
    {
      "cell_type": "code",
      "source": [
        "# Confusion Matrix #\n",
        "\n",
        "from sklearn.metrics import confusion_matrix\n",
        "import sklearn.metrics as metrics\n",
        "import numpy as np\n",
        "\n",
        "import matplotlib.pyplot as plt\n",
        "import seaborn\n",
        "\n",
        "pre1 = model1.predict(ttset1)               # 예측 결과 입력 #\n",
        "\n",
        "cm = confusion_matrix(pre1, ttlabel1)\n",
        "\n",
        "print(cm)\n",
        "\n",
        "gr_names = [\"TN\", \"FP (type  II error)\", \"FN (type I error)\", \"TP\"]\n",
        "gr_counts = [value for value in cm.flatten()]\n",
        "\n",
        "gr_per = [f\"{value:.1%}\" for value in cm.flatten()/np.sum(cm)]\n",
        "\n",
        "labels = [f\"{v1}\\n{v2}\\n({v3})\" for v1, v2, v3 in zip(gr_names,gr_counts,gr_per)]\n",
        "labels = np.asarray(labels).reshape(2,2)\n",
        "\n",
        "seaborn.heatmap(cm, annot=labels, fmt='', cmap='Oranges')\n",
        "plt.xlabel('Predicted Label')\n",
        "plt.ylabel('True Label')"
      ],
      "metadata": {
        "colab": {
          "base_uri": "https://localhost:8080/",
          "height": 504
        },
        "id": "ipV4yg6fDPw2",
        "outputId": "c2d157b6-c13f-4e05-82e0-7516734f3f33"
      },
      "execution_count": 101,
      "outputs": [
        {
          "output_type": "stream",
          "name": "stdout",
          "text": [
            "[[116   1]\n",
            " [  2  56]]\n"
          ]
        },
        {
          "output_type": "execute_result",
          "data": {
            "text/plain": [
              "Text(50.722222222222214, 0.5, 'True Label')"
            ]
          },
          "metadata": {},
          "execution_count": 101
        },
        {
          "output_type": "display_data",
          "data": {
            "text/plain": [
              "<Figure size 640x480 with 2 Axes>"
            ],
            "image/png": "[encoded data removed]"
          },
          "metadata": {}
        }
      ]
    },
    {
      "cell_type": "code",
      "source": [
        "# Confutions Matrix 이쁘게 꾸미기 #\n",
        "\n",
        "gr_names = [\"TN\", \"FP (type  II error)\", \"FN (type I error)\", \"TP\"]\n",
        "gr_counts = [value for value in cm.flatten()]\n",
        "\n",
        "gr_per = [f\"{value:.1%}\" for value in cm.flatten()/np.sum(cm)]\n",
        "\n",
        "labels = [f\"{v1}\\n{v2}\\n({v3})\" for v1, v2, v3 in zip(gr_names,gr_counts,gr_per)]\n",
        "\n",
        "labels = np.asarray(labels).reshape(2,2)\n",
        "labels\n"
      ],
      "metadata": {
        "colab": {
          "base_uri": "https://localhost:8080/"
        },
        "id": "UsOjtSrhLPyS",
        "outputId": "e347831f-4216-461c-b3c2-50857a2dbe2f"
      },
      "execution_count": 88,
      "outputs": [
        {
          "output_type": "execute_result",
          "data": {
            "text/plain": [
              "array([['TN\\n116\\n(66.3%)', 'FP (type  II error)\\n1\\n(0.6%)'],\n",
              "       ['FN (type I error)\\n2\\n(1.1%)', 'TP\\n56\\n(32.0%)']], dtype='<U28')"
            ]
          },
          "metadata": {},
          "execution_count": 88
        }
      ]
    }
  ]
}