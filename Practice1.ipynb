{
  "nbformat": 4,
  "nbformat_minor": 0,
  "metadata": {
    "colab": {
      "provenance": [],
      "authorship_tag": "ABX9TyNBWWTSIKx0puf3v32jJd/w",
      "include_colab_link": true
    },
    "kernelspec": {
      "name": "python3",
      "display_name": "Python 3"
    },
    "language_info": {
      "name": "python"
    }
  },
  "cells": [
    {
      "cell_type": "markdown",
      "metadata": {
        "id": "view-in-github",
        "colab_type": "text"
      },
      "source": [
        "<a href=\"https://colab.research.google.com/github/Kimeungseok/Kimeungseok/blob/main/Practice1.ipynb\" target=\"_parent\"><img src=\"https://colab.research.google.com/assets/colab-badge.svg\" alt=\"Open In Colab\"/></a>"
      ]
    },
    {
      "cell_type": "markdown",
      "source": [
        "구글드라이브에서 코랩으로 다운로드하는 방법\n",
        "**gdown 패키지** 실행"
      ],
      "metadata": {
        "id": "TKWf8e-Ve8DU"
      }
    },
    {
      "cell_type": "code",
      "source": [
        "import gdown\n",
        "gdown.download('https://bit.ly/3eecMKz','남산도서관 장서 대출목록(2021년 04월).csv', quiet=False)"
      ],
      "metadata": {
        "colab": {
          "base_uri": "https://localhost:8080/",
          "height": 109
        },
        "id": "XyvMb0QsfRoC",
        "outputId": "959d8781-08d0-43a0-d7be-8ca72be9ad9c"
      },
      "execution_count": 2,
      "outputs": [
        {
          "output_type": "stream",
          "name": "stderr",
          "text": [
            "Downloading...\n",
            "From: https://bit.ly/3eecMKz\n",
            "To: /content/남산도서관 장서 대출목록(2021년 04월).csv\n",
            "100%|██████████| 5.19k/5.19k [00:00<00:00, 6.95MB/s]\n"
          ]
        },
        {
          "output_type": "execute_result",
          "data": {
            "text/plain": [
              "'남산도서관 장서 대출목록(2021년 04월).csv'"
            ],
            "application/vnd.google.colaboratory.intrinsic+json": {
              "type": "string"
            }
          },
          "metadata": {},
          "execution_count": 2
        }
      ]
    },
    {
      "cell_type": "markdown",
      "source": [
        "파일 인코딩 형식 확인하기 : **chardet.detect()함수** 이용\n"
      ],
      "metadata": {
        "id": "yRu-Zy-hhjrP"
      }
    },
    {
      "cell_type": "code",
      "source": [
        "import chardet\n",
        "with open('cars.csv', mode='rb') as f:\n",
        "          d = f.readline()\n",
        "print(chardet.detect(d))"
      ],
      "metadata": {
        "colab": {
          "base_uri": "https://localhost:8080/"
        },
        "id": "5nEoNm2dhqyo",
        "outputId": "023d2423-6888-40e1-c4f7-5375b48a9e4e"
      },
      "execution_count": 45,
      "outputs": [
        {
          "output_type": "stream",
          "name": "stdout",
          "text": [
            "{'encoding': 'ascii', 'confidence': 1.0, 'language': ''}\n"
          ]
        }
      ]
    },
    {
      "cell_type": "markdown",
      "source": [
        "CSV 파일 출력 : **open()함수** 사용"
      ],
      "metadata": {
        "id": "7hJE5TSJjCcn"
      }
    },
    {
      "cell_type": "code",
      "source": [
        "with open('cars.csv', ) as file:\n",
        "  print(file.readline())\n",
        "  print(file.readline())"
      ],
      "metadata": {
        "colab": {
          "base_uri": "https://localhost:8080/"
        },
        "id": "VdC2EZq5jJbH",
        "outputId": "7f867d0d-844d-432f-9dca-7dc01849e105"
      },
      "execution_count": 51,
      "outputs": [
        {
          "output_type": "stream",
          "name": "stdout",
          "text": [
            "\"\",\"mpg\",\"cyl\",\"disp\",\"hp\",\"drat\",\"wt\",\"qsec\",\"vs\",\"am\",\"gear\",\"carb\"\n",
            "\n",
            "\"Mazda RX4\",21,6,160,110,3.9,2.62,16.46,0,1,4,4\n",
            "\n"
          ]
        }
      ]
    },
    {
      "cell_type": "markdown",
      "source": [
        "**Pandas 패키지** 이용한 화일 불러오기\n",
        "**head() -> 처음 다섯 행 확인**"
      ],
      "metadata": {
        "id": "_eDNw37hxpmc"
      }
    },
    {
      "cell_type": "code",
      "source": [
        "import pandas as pd\n",
        "df = pd.read_csv('cars.csv')\n",
        "df.head()"
      ],
      "metadata": {
        "id": "CzW5wLrJve05"
      },
      "execution_count": null,
      "outputs": []
    },
    {
      "cell_type": "markdown",
      "source": [
        "dt.to_csv('화일이름.csv', index=false) --> index는 빼고 저장함"
      ],
      "metadata": {
        "id": "Duldri_EyZsr"
      }
    },
    {
      "cell_type": "markdown",
      "source": [
        "**-기초통계- describe() 메서드 사용함**\n",
        "percentiles=[0.3,0.6,0.9] --> 원하는 percentiles 확인하고자 할 때"
      ],
      "metadata": {
        "id": "oeq5kIvty9Zs"
      }
    },
    {
      "cell_type": "code",
      "source": [
        "import pandas as pd\n",
        "df = pd.read_csv('cars.csv')\n",
        "c1=sum(df['cyl']==4)\n",
        "c1\n",
        "df.describe()"
      ],
      "metadata": {
        "id": "VPyycbTdzwbF"
      },
      "execution_count": null,
      "outputs": []
    },
    {
      "cell_type": "code",
      "source": [
        "c1"
      ],
      "metadata": {
        "id": "L1rlZb190wKw"
      },
      "execution_count": null,
      "outputs": []
    }
  ]
}