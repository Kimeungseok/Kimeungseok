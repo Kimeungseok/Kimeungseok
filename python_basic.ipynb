{
  "nbformat": 4,
  "nbformat_minor": 0,
  "metadata": {
    "colab": {
      "provenance": [],
      "authorship_tag": "ABX9TyO3p6YiBzmElEPI/9dkvC1B",
      "include_colab_link": true
    },
    "kernelspec": {
      "name": "python3",
      "display_name": "Python 3"
    },
    "language_info": {
      "name": "python"
    }
  },
  "cells": [
    {
      "cell_type": "markdown",
      "metadata": {
        "id": "view-in-github",
        "colab_type": "text"
      },
      "source": [
        "<a href=\"https://colab.research.google.com/github/Kimeungseok/Kimeungseok/blob/main/python_basic.ipynb\" target=\"_parent\"><img src=\"https://colab.research.google.com/assets/colab-badge.svg\" alt=\"Open In Colab\"/></a>"
      ]
    },
    {
      "cell_type": "markdown",
      "source": [
        "# 파이썬 프로그래밍 기초"
      ],
      "metadata": {
        "id": "_7KTFGjmTsyc"
      }
    },
    {
      "cell_type": "code",
      "source": [
        "# print 활용 하기 #\n",
        "\n",
        "print('naver;kakao;LG')\n",
        "\n",
        "print('naver/kaka/LG/SK')\n",
        "\n",
        "print('first');print('second')\n",
        "\n",
        "print('first', end=\"\");print('second')\n",
        "print('first', end=\"\");print('  second')\n",
        "print('first', end=\"  \");print('second')\n",
        "\n",
        "print('Kim', end=\" \");print('EungSeok')"
      ],
      "metadata": {
        "id": "Gzanqsy9swC8"
      },
      "execution_count": null,
      "outputs": []
    },
    {
      "cell_type": "code",
      "source": [
        "# 단순 계산값의 출력 #\n",
        "\n",
        "print(5/3)\n",
        "\n",
        "a = 5/3\n",
        "print(round(a,2))"
      ],
      "metadata": {
        "colab": {
          "base_uri": "https://localhost:8080/"
        },
        "id": "gv1sFpMzuPrZ",
        "outputId": "ed9f4998-9acd-4d1d-8fbc-c2ebcb5dbf05"
      },
      "execution_count": null,
      "outputs": [
        {
          "output_type": "stream",
          "name": "stdout",
          "text": [
            "1.6666666666666667\n",
            "1.67\n"
          ]
        }
      ]
    },
    {
      "cell_type": "code",
      "source": [
        "# 변수 사용하기 #\n",
        "\n",
        "LG = int(50000)\n",
        "Amount = int(input('몇 주를 가지고 계십니까?  '))\n",
        "\n",
        "print(\"귀하의 금액은 \", LG*Amount,\"입니다.\" )\n",
        "\n",
        "# 문자 합치기 #\n",
        "a = \"hello\"\n",
        "b = \"good morning\"\n",
        "print(a + \" !\", b)"
      ],
      "metadata": {
        "id": "SZbwEZgkunK2"
      },
      "execution_count": null,
      "outputs": []
    },
    {
      "cell_type": "code",
      "source": [
        "# 문자열 인덱싱 #\n",
        "aa = 'Kim Eung Seok'\n",
        "print(aa[0], aa[4], aa[9])\n",
        "\n",
        "# 끝에서 4자리만 문제만 인덱싱 #\n",
        "\n",
        "print(aa[-4:])\n",
        "\n",
        "# 반복이 있는 문자열에서 규칙적인 인덱싱 #\n",
        "\n",
        "bb = \"SOSSOSSOS\"\n",
        "print(bb[::3])"
      ],
      "metadata": {
        "colab": {
          "base_uri": "https://localhost:8080/"
        },
        "id": "v92CzQtb0bP3",
        "outputId": "6d0152bb-4673-4419-db6c-1ac322f5a079"
      },
      "execution_count": 8,
      "outputs": [
        {
          "output_type": "stream",
          "name": "stdout",
          "text": [
            "K E S\n",
            "Seok\n",
            "SSS\n"
          ]
        }
      ]
    },
    {
      "cell_type": "code",
      "execution_count": null,
      "metadata": {
        "id": "Wk70ZlvYRrri"
      },
      "outputs": [],
      "source": [
        "# 값 받아서 출력하기 #\n",
        "a = input('당신의 나이는 몇 살입니까?     ')\n",
        "print('당신은', a, '년을 살았습니다.')"
      ]
    },
    {
      "cell_type": "code",
      "source": [
        "# 값을 받아서 계산한 결과값 출력하기 #\n",
        "\n",
        "b = input('반지름은?   ')\n",
        "\n",
        "import math\n",
        "\n",
        "b1 = float(b)\n",
        "\n",
        "b2 = round(math.pi*b1**2,3)\n",
        "\n",
        "print('원의 면적은',b2,'입니다.')\n",
        "\n"
      ],
      "metadata": {
        "colab": {
          "base_uri": "https://localhost:8080/"
        },
        "id": "8wfo9W7mSUpJ",
        "outputId": "3e923bd6-884f-4f19-87fd-0ef77610a051"
      },
      "execution_count": null,
      "outputs": [
        {
          "output_type": "stream",
          "name": "stdout",
          "text": [
            "반지름은?   2.1\n",
            "원의 면적은 13.854 입니다.\n"
          ]
        }
      ]
    },
    {
      "cell_type": "markdown",
      "source": [
        "**파이썬** **연산자**                                 \n",
        "\n",
        "+, -, *, /, //=몫, %=나머지, **=제곱,  문자열 : +, *\n",
        "\n",
        "**비교 및 논리 연산자**\n",
        "\n",
        "<, <=, >, >=      ==(Ture), !=(False)"
      ],
      "metadata": {
        "id": "ltUBkAHUTw9q"
      }
    },
    {
      "cell_type": "code",
      "source": [
        "c = input('꽃 이름을 입력하세요     ')\n",
        "c1 = c*10\n",
        "\n",
        "print(c1)"
      ],
      "metadata": {
        "colab": {
          "base_uri": "https://localhost:8080/"
        },
        "id": "h5HuOzu0Umsk",
        "outputId": "c24da4f7-9c72-423a-c0ca-670cf69fc483"
      },
      "execution_count": null,
      "outputs": [
        {
          "output_type": "stream",
          "name": "stdout",
          "text": [
            "꽃 이름을 입력하세요     봉선화\n",
            "봉선화봉선화봉선화봉선화봉선화봉선화봉선화봉선화봉선화봉선화\n"
          ]
        }
      ]
    },
    {
      "cell_type": "code",
      "source": [
        "# 피타고라스 정리 #\n",
        "\n",
        "\n",
        "d1 = float(input('밑변은 ? '))\n",
        "d2 = float(input('높이는 ? '))\n",
        "d3 = (d1**2+d2**2)**0.5\n",
        "\n",
        "print('밑변 =', d1)\n",
        "print('높이 =', d2)\n",
        "print('빗변 =', d3)"
      ],
      "metadata": {
        "id": "LaDp15EBWIBB"
      },
      "execution_count": null,
      "outputs": []
    },
    {
      "cell_type": "code",
      "source": [
        "# 나눗셈 #\n",
        "\n",
        "e1 = float(input('분모는? '))\n",
        "e2 = float(input('분자는? '))\n",
        "print('몫 = ', int(e1//e2),  '나머지 = ', e1%e2)\n",
        "\n"
      ],
      "metadata": {
        "id": "q3llnUtFVGq0"
      },
      "execution_count": null,
      "outputs": []
    },
    {
      "cell_type": "code",
      "source": [
        "# 원의 둘레, 원의 넓이 #\n",
        "\n",
        "r = float(input('원의 반지름을 입력하세요(Cm) :  '))\n",
        "\n",
        "import numpy as np\n",
        "import math\n",
        "\n",
        "rod = round(2*math.pi*r,4)\n",
        "area = round(math.pi*(r**2),4)\n",
        "\n",
        "print('원의 둘레는 ', rod)\n",
        "print('원의 넓이는 ', area)"
      ],
      "metadata": {
        "id": "vcxrt7ViXXyd"
      },
      "execution_count": null,
      "outputs": []
    },
    {
      "cell_type": "code",
      "source": [
        "age = int(input('당신의 나이는?  '))\n",
        "if age >= 15:\n",
        "  print('이 영화를 볼 수 있습니다.')\n",
        "else:\n",
        "  print('이 영화를 볼 수 없습니다.')"
      ],
      "metadata": {
        "colab": {
          "base_uri": "https://localhost:8080/"
        },
        "id": "EO3gvuth_3Yq",
        "outputId": "429b058e-2dbf-49b2-8b15-8638fab5b309"
      },
      "execution_count": null,
      "outputs": [
        {
          "output_type": "stream",
          "name": "stdout",
          "text": [
            "당신의 나이는?  15\n",
            "이 영화를 볼 수 있습니다.\n"
          ]
        }
      ]
    },
    {
      "cell_type": "code",
      "source": [
        "grade = float(input('수능 점수는? '))\n",
        "if grade >=275:\n",
        "  print('합격을 축하합니다.')\n",
        "else:\n",
        "  print('안타깝습니다.')\n"
      ],
      "metadata": {
        "id": "8zkILPB8Ab7S"
      },
      "execution_count": null,
      "outputs": []
    },
    {
      "cell_type": "code",
      "source": [
        "# 변수의 정의 #\n",
        "\n",
        "a1 = float(input('100m 기록은? '))\n",
        "a2 = float(input('1,000m 기록은? '))\n",
        "a3 = float(input('윗몸일으키기는? '))\n",
        "a4 = float(input('좌우 악력은? '))\n",
        "a5 = float(input('팔굽혀펴기는? '))\n",
        "\n",
        "# 합격 가능성 계산 #\n",
        "\n",
        "if a1 <= 13.6 and a2 <=237 and a3>=51 and a4>=56 and a5>=46:\n",
        "      print('합격 가능성이 높습니다')\n",
        "else:\n",
        "      print('합격 가능성이 낮습니다')"
      ],
      "metadata": {
        "id": "6k5AmyEkBxMo"
      },
      "execution_count": null,
      "outputs": []
    },
    {
      "cell_type": "code",
      "source": [
        "# 90점 이상 A, 60점 미만 F #\n",
        "\n",
        "grade2 = float(input('귀하의 점수는? '))\n",
        "\n",
        "if grade2 >= 90:\n",
        "  print('A 등급입니다.')\n",
        "elif 60<= grade2 <90:\n",
        "  print('B 등급입니다.')\n",
        "else:\n",
        "  print('F 등급입니다.')"
      ],
      "metadata": {
        "id": "oej5vivXDVCe"
      },
      "execution_count": null,
      "outputs": []
    },
    {
      "cell_type": "code",
      "source": [
        "# BMI 계산 - BMI = 몸무게 / 키 #\n",
        "\n",
        "height1 = float(input('귀하는 키는? '))             # 키 입력 #\n",
        "weight1 = float(input('귀하는 몸무게는? '))         # 몸무게 입력 #\n",
        "\n",
        "bmi = weight1/(height1/100)**2                       # BMI 계산#\n",
        "print('귀하의 bmi =', round(bmi,2),'입니다')\n",
        "\n",
        "if bmi > 30:\n",
        "  print('고도비만니다.')\n",
        "elif bmi >= 25:\n",
        "  print('비만입니다.')\n",
        "elif bmi >= 23:\n",
        "  print('과체중입니다.')\n",
        "elif bmi >= 18.5:\n",
        "  print('정상입니다')\n",
        "else:\n",
        "  print('저체중입니다.')"
      ],
      "metadata": {
        "id": "IL4YVu2kEXWa"
      },
      "execution_count": null,
      "outputs": []
    },
    {
      "cell_type": "code",
      "source": [
        "# 짝수, 홀수 구분 #\n",
        "\n",
        "while True:\n",
        "\n",
        "     try:\n",
        "          number = int(input('자연수를 입력하세요:    '))\n",
        "          break\n",
        "     except ValueError:\n",
        "          print('정수가 아닙니다, 다시 입력하세요:   ')\n",
        "\n",
        "if number>=0:\n",
        "            if number%2 == 0:\n",
        "                  print('짝수입니다.')\n",
        "            else:\n",
        "                print('홀수입니다')\n",
        "else:\n",
        "            print('음수입니다.')"
      ],
      "metadata": {
        "id": "lLrlfjlxHy8-"
      },
      "execution_count": null,
      "outputs": []
    }
  ]
}