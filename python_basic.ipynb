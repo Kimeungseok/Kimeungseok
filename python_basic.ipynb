{
  "nbformat": 4,
  "nbformat_minor": 0,
  "metadata": {
    "colab": {
      "provenance": [],
      "authorship_tag": "ABX9TyNGrdEtnybCsbcOXDKTDQPP",
      "include_colab_link": true
    },
    "kernelspec": {
      "name": "python3",
      "display_name": "Python 3"
    },
    "language_info": {
      "name": "python"
    }
  },
  "cells": [
    {
      "cell_type": "markdown",
      "metadata": {
        "id": "view-in-github",
        "colab_type": "text"
      },
      "source": [
        "<a href=\"https://colab.research.google.com/github/Kimeungseok/Kimeungseok/blob/main/python_basic.ipynb\" target=\"_parent\"><img src=\"https://colab.research.google.com/assets/colab-badge.svg\" alt=\"Open In Colab\"/></a>"
      ]
    },
    {
      "cell_type": "code",
      "execution_count": 2,
      "metadata": {
        "colab": {
          "base_uri": "https://localhost:8080/"
        },
        "id": "Wk70ZlvYRrri",
        "outputId": "fc84dc38-3842-4dad-94b5-20d062d2088c"
      },
      "outputs": [
        {
          "output_type": "stream",
          "name": "stdout",
          "text": [
            "당신의 나이는 몇 살입니까?     30\n",
            "당신은 30 년을 살았습니다.\n"
          ]
        }
      ],
      "source": [
        "# 값 받아서 출력하기 #\n",
        "a = input('당신의 나이는 몇 살입니까?     ')\n",
        "print('당신은', a, '년을 살았습니다.')"
      ]
    },
    {
      "cell_type": "code",
      "source": [
        "# 값을 받아서 계산한 결과값 출력하기 #\n",
        "\n",
        "b = input('반지름은?   ')\n",
        "\n",
        "import math\n",
        "\n",
        "b1 = float(b)\n",
        "\n",
        "b2 = round(math.pi*b1**2,3)\n",
        "\n",
        "print('원의 면적은',b2,'입니다.')\n",
        "\n"
      ],
      "metadata": {
        "colab": {
          "base_uri": "https://localhost:8080/"
        },
        "id": "8wfo9W7mSUpJ",
        "outputId": "3e923bd6-884f-4f19-87fd-0ef77610a051"
      },
      "execution_count": 7,
      "outputs": [
        {
          "output_type": "stream",
          "name": "stdout",
          "text": [
            "반지름은?   2.1\n",
            "원의 면적은 13.854 입니다.\n"
          ]
        }
      ]
    }
  ]
}