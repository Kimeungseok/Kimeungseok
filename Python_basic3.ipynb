{
  "nbformat": 4,
  "nbformat_minor": 0,
  "metadata": {
    "colab": {
      "provenance": [],
      "authorship_tag": "ABX9TyNy2rpOqwGuBNYCv66EbT4a",
      "include_colab_link": true
    },
    "kernelspec": {
      "name": "python3",
      "display_name": "Python 3"
    },
    "language_info": {
      "name": "python"
    }
  },
  "cells": [
    {
      "cell_type": "markdown",
      "metadata": {
        "id": "view-in-github",
        "colab_type": "text"
      },
      "source": [
        "<a href=\"https://colab.research.google.com/github/Kimeungseok/Kimeungseok/blob/main/Python_basic3.ipynb\" target=\"_parent\"><img src=\"https://colab.research.google.com/assets/colab-badge.svg\" alt=\"Open In Colab\"/></a>"
      ]
    },
    {
      "cell_type": "markdown",
      "source": [
        "# print 활용 #\n",
        "\n",
        "print는 정수, 실수, 문자열 출력\n",
        "문자열은 '', \"\" 사용함"
      ],
      "metadata": {
        "id": "3KDGEuuOKFbx"
      }
    },
    {
      "cell_type": "code",
      "source": [
        "# 문자열 출력 #\n",
        "\n",
        "print('Kim Eung Seok')\n",
        "print(\"Choi's Birthday\")\n",
        "print('\"화이팅!!\"')\n",
        "print('C:\\windows')\n",
        "\n",
        "# \\t(tab), \\n(줄바꿈) #\n",
        "\n",
        "print('안녕하세요. \\n만나서\\t반갑습니다.\\n좋은 시간 되세요')\n",
        "\n",
        "# , 이용하여 여러값 출력 #\n",
        "\n",
        "print('월요일','화요일','수요일')\n",
        "\n",
        "# sep=\"\"을 활용하여 문자 사이 구분 #\n",
        "\n",
        "print('Kim','Lee','park', sep='/')\n",
        "\n",
        "# 두 개 문자를 한 행에 출력, end=\"\" #\n",
        "\n",
        "print('first',end=\" \");print('second')\n",
        "\n",
        "# 연산 결과 출력 #\n",
        "\n",
        "print(round(5/3,2))\n",
        "\n",
        "a = float(7/6)\n",
        "print(round(a,2))"
      ],
      "metadata": {
        "id": "8bPIApmYKPWM"
      },
      "execution_count": null,
      "outputs": []
    },
    {
      "cell_type": "markdown",
      "source": [
        "## 변수 종류 ##"
      ],
      "metadata": {
        "id": "Bdk489UOOj26"
      }
    },
    {
      "cell_type": "code",
      "execution_count": null,
      "metadata": {
        "id": "ordgHzBjJ5wQ"
      },
      "outputs": [],
      "source": [
        "# 주가와 보유 주수 물어보고 평가 금액 계산하기 #\n",
        "# format(수,',d) --> 천단위 구분 #\n",
        "\n",
        "n1 = int(input('현재 가격은 얼마입니까?  '))\n",
        "n2 = int(input('보유하고 있는 주식수는 ?  '))\n",
        "\n",
        "T_Amount = n1 * n2\n",
        "\n",
        "print('현재 평가금액은', format(T_Amount, ',d'), '원 입니다.')\n",
        "\n",
        "print(type(T_Amount))"
      ]
    },
    {
      "cell_type": "code",
      "source": [
        "# 월금액, 납입 개월 수 입력 후 총 금액 출력 #'\n",
        "\n",
        "\n",
        "n10 = int(input('월 납입액은 얼마입니까?  '))\n",
        "n20 = int(input('납입개월 수는 ?  '))\n",
        "\n",
        "T10_Amount = n10 * n20\n",
        "\n",
        "print('전체금액은', format(T10_Amount, ',d'), '원 입니다.')\n",
        "\n",
        "print(type(T_Amount))"
      ],
      "metadata": {
        "colab": {
          "base_uri": "https://localhost:8080/"
        },
        "id": "AigGyQmfTM6S",
        "outputId": "81d3ed05-d3c5-498c-bca9-8963fca96e90"
      },
      "execution_count": 35,
      "outputs": [
        {
          "output_type": "stream",
          "name": "stdout",
          "text": [
            "월 납입액은 얼마입니까?  48584\n",
            "납입개월 수는 ?  24\n",
            "전체금액은 1,166,016 원 입니다.\n",
            "<class 'int'>\n"
          ]
        }
      ]
    },
    {
      "cell_type": "code",
      "source": [
        "# 변수 Type 변경 #\n",
        "\n",
        "num_str = \"8760\"\n",
        "n1 = 1234\n",
        "\n",
        "print(type(num_str),end=\" \");print(type(num_int))\n",
        "num_int = int(num_str)\n",
        "n1_str = str(n1)\n",
        "\n",
        "print(type(n1),end=\" \");print(type(n1_str))\n",
        "\n",
        "n2 = \"15.79\"\n",
        "n2_float = float(n2)\n",
        "\n",
        "print(type(n2),end=\" \");print(type(n2_float))\n",
        "\n",
        "year = '2020'\n",
        "print(int(year))\n",
        "print(int(year)-1)\n",
        "print(int(year)-2)\n",
        "print(int(year)-3)"
      ],
      "metadata": {
        "id": "vKt7jKt2RV-p"
      },
      "execution_count": null,
      "outputs": []
    },
    {
      "cell_type": "markdown",
      "source": [
        "## 파이썬 문자열 ##\n",
        "\n",
        "문자열 자체는 변환할 수 없고, 새로운 변수로 재정의해야 함."
      ],
      "metadata": {
        "id": "0OoLwwazT_Bc"
      }
    },
    {
      "cell_type": "code",
      "source": [
        "# 문자열 인덱싱, 한 글자씩 =[], 0에서 시작 #\n",
        "letter = 'korean'\n",
        "print(letter[0],letter[2])\n",
        "print(letter[-4:])              # 뒤에서 4번째 문자부터\n",
        "print(letter[:3])               # 앞에서 3번째 문자까지"
      ],
      "metadata": {
        "colab": {
          "base_uri": "https://localhost:8080/"
        },
        "id": "dy4LZZySUNJG",
        "outputId": "12f8ad21-252b-4614-cd4e-1a218e6798d7"
      },
      "execution_count": 44,
      "outputs": [
        {
          "output_type": "stream",
          "name": "stdout",
          "text": [
            "k r\n",
            "rean\n",
            "kor\n"
          ]
        }
      ]
    },
    {
      "cell_type": "code",
      "source": [
        "# 간격을 주고 문자 추출 = string{::2}  #\n",
        "\n",
        "letter1 = \"1212121212\"\n",
        "letter2 = '123123123123'\n",
        "\n",
        "print(letter1[::3])\n",
        "print(letter2[::3])\n",
        "\n",
        "# 문자열 뒤집기 #\n",
        "\n",
        "print(letter2[::-1])\n",
        "\n",
        "# 문자열 치환 = replace #\n",
        "\n",
        "letter3 = letter2.replace('3','4')\n",
        "print(letter3)\n",
        "\n",
        "# 문자열 분리 = split #\n",
        "\n",
        "url = 'http://wexi.kr'\n",
        "url_s = url.split('.')\n",
        "print(url)\n",
        "print(url_s[-1])\n",
        "print(url_s[-2])\n",
        "print(url_s)\n"
      ],
      "metadata": {
        "id": "pc11Jpb4V_NY"
      },
      "execution_count": null,
      "outputs": []
    },
    {
      "cell_type": "code",
      "source": [
        "# 문자열 더하기, 곱하기 #\n",
        "\n",
        "n5 = \"10\"\n",
        "n6 = \"20\"\n",
        "\n",
        "n56 = n5 + ' ' + n6 +' '\n",
        "n56_times_10 = 10 * n56\n",
        "print(n56)\n",
        "print(n56_times_10)\n",
        "\n",
        "print('='*80)"
      ],
      "metadata": {
        "colab": {
          "base_uri": "https://localhost:8080/"
        },
        "id": "vISNdEIVZqD2",
        "outputId": "1d56b938-cff1-4485-c16d-812136a734d5"
      },
      "execution_count": 69,
      "outputs": [
        {
          "output_type": "stream",
          "name": "stdout",
          "text": [
            "10 20 \n",
            "10 20 10 20 10 20 10 20 10 20 10 20 10 20 10 20 10 20 10 20 \n",
            "================================================================================\n"
          ]
        }
      ]
    },
    {
      "cell_type": "code",
      "source": [
        "# 문자열 출력 #\n",
        "\n",
        "name1 = '김현지'\n",
        "age1 = 26\n",
        "name2 = '김예린'\n",
        "age2 = 25\n",
        "\n",
        "#%s, %d 활용 #\n",
        "\n",
        "print('이름: %s 나이: %d' % (name1, age1))\n",
        "print('이름: %s 나이: %d' % (name2, age2))\n",
        "print()\n",
        "\n",
        "# format 메서드 활용  - {} 표시하면 됨 #\n",
        "\n",
        "print('이름: {} 나이: {}'.format(name1, age1))\n",
        "print('이름: {} 나이: {}'.format(name2, age2))\n",
        "print()\n",
        "\n",
        "# f-string 이용 #\n",
        "\n",
        "print(f'이름: {name1} 나이: {age1}')\n",
        "print(f'이름: {name2} 나이: {age2}')"
      ],
      "metadata": {
        "id": "yBkSOMDJbV6m"
      },
      "execution_count": null,
      "outputs": []
    },
    {
      "cell_type": "code",
      "source": [
        "# 문자에 공백 없애기 - strip #\n",
        "\n",
        "letter10 = '   LG    '\n",
        "letter10_st = letter10.strip()\n",
        "\n",
        "print(letter10)\n",
        "print(letter10_st)"
      ],
      "metadata": {
        "id": "J7kg1g8bdSNO"
      },
      "execution_count": null,
      "outputs": []
    },
    {
      "cell_type": "code",
      "source": [
        "# 문자열을 대문자로 바꾸기 - upper, capitalize #\n",
        "# 문자열을 소문자로 바꾸기 - lower #\n",
        "\n",
        "letter20 = 'bts'\n",
        "letter20_u = letter20.upper()\n",
        "\n",
        "letter30 = 'usa'\n",
        "letter30_c = letter30.capitalize()\n",
        "\n",
        "letter40 = 'KOREA'\n",
        "letter40_l = letter30.lower()\n",
        "\n",
        "print(letter20)\n",
        "print(letter20_u)\n",
        "print()\n",
        "print(letter30)\n",
        "print(letter30_c)\n",
        "print()\n",
        "print(letter40)\n",
        "print(letter40_l)"
      ],
      "metadata": {
        "id": "8Dn1CkNfd5k-"
      },
      "execution_count": null,
      "outputs": []
    },
    {
      "cell_type": "code",
      "source": [
        "# 문자의 확인 - endswith, startwith #\n",
        "\n",
        "file1 = '보고서.ppt'\n",
        "file1.endswith('ppt')\n",
        "\n",
        "print()\n",
        "\n",
        "# 문자의 구분 #\n",
        "\n",
        "letter50 ='Hi Everybody'\n",
        "letter60 = '010-123-7658'\n",
        "letter50.split()\n",
        "letter60.split('-')"
      ],
      "metadata": {
        "colab": {
          "base_uri": "https://localhost:8080/"
        },
        "id": "vV8pliZPhI5p",
        "outputId": "b0805107-d653-44a5-84b1-1eb2811c7fe5"
      },
      "execution_count": 90,
      "outputs": [
        {
          "output_type": "stream",
          "name": "stdout",
          "text": [
            "\n"
          ]
        },
        {
          "output_type": "execute_result",
          "data": {
            "text/plain": [
              "['010', '123', '7658']"
            ]
          },
          "metadata": {},
          "execution_count": 90
        }
      ]
    }
  ]
}