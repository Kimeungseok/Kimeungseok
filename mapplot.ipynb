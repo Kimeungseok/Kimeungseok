{
  "nbformat": 4,
  "nbformat_minor": 0,
  "metadata": {
    "colab": {
      "provenance": [],
      "authorship_tag": "ABX9TyNwYCpyyo82HW2XVB3dX4pT",
      "include_colab_link": true
    },
    "kernelspec": {
      "name": "python3",
      "display_name": "Python 3"
    },
    "language_info": {
      "name": "python"
    }
  },
  "cells": [
    {
      "cell_type": "markdown",
      "metadata": {
        "id": "view-in-github",
        "colab_type": "text"
      },
      "source": [
        "<a href=\"https://colab.research.google.com/github/Kimeungseok/Kimeungseok/blob/main/mapplot.ipynb\" target=\"_parent\"><img src=\"https://colab.research.google.com/assets/colab-badge.svg\" alt=\"Open In Colab\"/></a>"
      ]
    },
    {
      "cell_type": "markdown",
      "source": [
        "# 맷플롯립 활용 방법"
      ],
      "metadata": {
        "id": "TdtLlLWOPYBT"
      }
    },
    {
      "cell_type": "markdown",
      "source": [
        "Figure 객체, ,rcParams, subplot"
      ],
      "metadata": {
        "id": "so64O6YfPdPG"
      }
    },
    {
      "cell_type": "code",
      "execution_count": 46,
      "metadata": {
        "colab": {
          "base_uri": "https://localhost:8080/",
          "height": 313
        },
        "id": "YdG14tkTO3ci",
        "outputId": "f7e553b8-81ec-4f88-ca57-2441106bd96b"
      },
      "outputs": [
        {
          "output_type": "execute_result",
          "data": {
            "text/plain": [
              "               brand   mpg  cyl   disp     hp  drat     wt   qsec   vs   am  \\\n",
              "0          Mazda RX4  21.0  6.0  160.0  110.0  3.90  2.620  16.46  0.0  1.0   \n",
              "1      Mazda RX4 Wag  21.0  6.0  160.0  110.0  3.90  2.875  17.02  0.0  1.0   \n",
              "2         Datsun 710  22.8  4.0  108.0   93.0  3.85  2.320  18.61  1.0  1.0   \n",
              "3     Hornet 4 Drive  21.4  6.0  258.0  110.0  3.08  3.215  19.44  1.0  0.0   \n",
              "4  Hornet Sportabout  18.7  8.0  360.0  175.0  3.15  3.440  17.02  0.0  0.0   \n",
              "\n",
              "   gear  carb  Year  hap  \n",
              "0   4.0   4.0  1970    0  \n",
              "1   4.0   4.0  1971    0  \n",
              "2   4.0   1.0  1972    0  \n",
              "3   3.0   1.0  1973   20  \n",
              "4   3.0   2.0  1974    1  "
            ],
            "text/html": [
              "\n",
              "  <div id=\"df-3acfd9d7-f547-481c-93cd-182167e19088\" class=\"colab-df-container\">\n",
              "    <div>\n",
              "<style scoped>\n",
              "    .dataframe tbody tr th:only-of-type {\n",
              "        vertical-align: middle;\n",
              "    }\n",
              "\n",
              "    .dataframe tbody tr th {\n",
              "        vertical-align: top;\n",
              "    }\n",
              "\n",
              "    .dataframe thead th {\n",
              "        text-align: right;\n",
              "    }\n",
              "</style>\n",
              "<table border=\"1\" class=\"dataframe\">\n",
              "  <thead>\n",
              "    <tr style=\"text-align: right;\">\n",
              "      <th></th>\n",
              "      <th>brand</th>\n",
              "      <th>mpg</th>\n",
              "      <th>cyl</th>\n",
              "      <th>disp</th>\n",
              "      <th>hp</th>\n",
              "      <th>drat</th>\n",
              "      <th>wt</th>\n",
              "      <th>qsec</th>\n",
              "      <th>vs</th>\n",
              "      <th>am</th>\n",
              "      <th>gear</th>\n",
              "      <th>carb</th>\n",
              "      <th>Year</th>\n",
              "      <th>hap</th>\n",
              "    </tr>\n",
              "  </thead>\n",
              "  <tbody>\n",
              "    <tr>\n",
              "      <th>0</th>\n",
              "      <td>Mazda RX4</td>\n",
              "      <td>21.0</td>\n",
              "      <td>6.0</td>\n",
              "      <td>160.0</td>\n",
              "      <td>110.0</td>\n",
              "      <td>3.90</td>\n",
              "      <td>2.620</td>\n",
              "      <td>16.46</td>\n",
              "      <td>0.0</td>\n",
              "      <td>1.0</td>\n",
              "      <td>4.0</td>\n",
              "      <td>4.0</td>\n",
              "      <td>1970</td>\n",
              "      <td>0</td>\n",
              "    </tr>\n",
              "    <tr>\n",
              "      <th>1</th>\n",
              "      <td>Mazda RX4 Wag</td>\n",
              "      <td>21.0</td>\n",
              "      <td>6.0</td>\n",
              "      <td>160.0</td>\n",
              "      <td>110.0</td>\n",
              "      <td>3.90</td>\n",
              "      <td>2.875</td>\n",
              "      <td>17.02</td>\n",
              "      <td>0.0</td>\n",
              "      <td>1.0</td>\n",
              "      <td>4.0</td>\n",
              "      <td>4.0</td>\n",
              "      <td>1971</td>\n",
              "      <td>0</td>\n",
              "    </tr>\n",
              "    <tr>\n",
              "      <th>2</th>\n",
              "      <td>Datsun 710</td>\n",
              "      <td>22.8</td>\n",
              "      <td>4.0</td>\n",
              "      <td>108.0</td>\n",
              "      <td>93.0</td>\n",
              "      <td>3.85</td>\n",
              "      <td>2.320</td>\n",
              "      <td>18.61</td>\n",
              "      <td>1.0</td>\n",
              "      <td>1.0</td>\n",
              "      <td>4.0</td>\n",
              "      <td>1.0</td>\n",
              "      <td>1972</td>\n",
              "      <td>0</td>\n",
              "    </tr>\n",
              "    <tr>\n",
              "      <th>3</th>\n",
              "      <td>Hornet 4 Drive</td>\n",
              "      <td>21.4</td>\n",
              "      <td>6.0</td>\n",
              "      <td>258.0</td>\n",
              "      <td>110.0</td>\n",
              "      <td>3.08</td>\n",
              "      <td>3.215</td>\n",
              "      <td>19.44</td>\n",
              "      <td>1.0</td>\n",
              "      <td>0.0</td>\n",
              "      <td>3.0</td>\n",
              "      <td>1.0</td>\n",
              "      <td>1973</td>\n",
              "      <td>20</td>\n",
              "    </tr>\n",
              "    <tr>\n",
              "      <th>4</th>\n",
              "      <td>Hornet Sportabout</td>\n",
              "      <td>18.7</td>\n",
              "      <td>8.0</td>\n",
              "      <td>360.0</td>\n",
              "      <td>175.0</td>\n",
              "      <td>3.15</td>\n",
              "      <td>3.440</td>\n",
              "      <td>17.02</td>\n",
              "      <td>0.0</td>\n",
              "      <td>0.0</td>\n",
              "      <td>3.0</td>\n",
              "      <td>2.0</td>\n",
              "      <td>1974</td>\n",
              "      <td>1</td>\n",
              "    </tr>\n",
              "  </tbody>\n",
              "</table>\n",
              "</div>\n",
              "    <div class=\"colab-df-buttons\">\n",
              "\n",
              "  <div class=\"colab-df-container\">\n",
              "    <button class=\"colab-df-convert\" onclick=\"convertToInteractive('df-3acfd9d7-f547-481c-93cd-182167e19088')\"\n",
              "            title=\"Convert this dataframe to an interactive table.\"\n",
              "            style=\"display:none;\">\n",
              "\n",
              "  <svg xmlns=\"http://www.w3.org/2000/svg\" height=\"24px\" viewBox=\"0 -960 960 960\">\n",
              "    <path d=\"M120-120v-720h720v720H120Zm60-500h600v-160H180v160Zm220 220h160v-160H400v160Zm0 220h160v-160H400v160ZM180-400h160v-160H180v160Zm440 0h160v-160H620v160ZM180-180h160v-160H180v160Zm440 0h160v-160H620v160Z\"/>\n",
              "  </svg>\n",
              "    </button>\n",
              "\n",
              "  <style>\n",
              "    .colab-df-container {\n",
              "      display:flex;\n",
              "      gap: 12px;\n",
              "    }\n",
              "\n",
              "    .colab-df-convert {\n",
              "      background-color: #E8F0FE;\n",
              "      border: none;\n",
              "      border-radius: 50%;\n",
              "      cursor: pointer;\n",
              "      display: none;\n",
              "      fill: #1967D2;\n",
              "      height: 32px;\n",
              "      padding: 0 0 0 0;\n",
              "      width: 32px;\n",
              "    }\n",
              "\n",
              "    .colab-df-convert:hover {\n",
              "      background-color: #E2EBFA;\n",
              "      box-shadow: 0px 1px 2px rgba(60, 64, 67, 0.3), 0px 1px 3px 1px rgba(60, 64, 67, 0.15);\n",
              "      fill: #174EA6;\n",
              "    }\n",
              "\n",
              "    .colab-df-buttons div {\n",
              "      margin-bottom: 4px;\n",
              "    }\n",
              "\n",
              "    [theme=dark] .colab-df-convert {\n",
              "      background-color: #3B4455;\n",
              "      fill: #D2E3FC;\n",
              "    }\n",
              "\n",
              "    [theme=dark] .colab-df-convert:hover {\n",
              "      background-color: #434B5C;\n",
              "      box-shadow: 0px 1px 3px 1px rgba(0, 0, 0, 0.15);\n",
              "      filter: drop-shadow(0px 1px 2px rgba(0, 0, 0, 0.3));\n",
              "      fill: #FFFFFF;\n",
              "    }\n",
              "  </style>\n",
              "\n",
              "    <script>\n",
              "      const buttonEl =\n",
              "        document.querySelector('#df-3acfd9d7-f547-481c-93cd-182167e19088 button.colab-df-convert');\n",
              "      buttonEl.style.display =\n",
              "        google.colab.kernel.accessAllowed ? 'block' : 'none';\n",
              "\n",
              "      async function convertToInteractive(key) {\n",
              "        const element = document.querySelector('#df-3acfd9d7-f547-481c-93cd-182167e19088');\n",
              "        const dataTable =\n",
              "          await google.colab.kernel.invokeFunction('convertToInteractive',\n",
              "                                                    [key], {});\n",
              "        if (!dataTable) return;\n",
              "\n",
              "        const docLinkHtml = 'Like what you see? Visit the ' +\n",
              "          '<a target=\"_blank\" href=https://colab.research.google.com/notebooks/data_table.ipynb>data table notebook</a>'\n",
              "          + ' to learn more about interactive tables.';\n",
              "        element.innerHTML = '';\n",
              "        dataTable['output_type'] = 'display_data';\n",
              "        await google.colab.output.renderOutput(dataTable, element);\n",
              "        const docLink = document.createElement('div');\n",
              "        docLink.innerHTML = docLinkHtml;\n",
              "        element.appendChild(docLink);\n",
              "      }\n",
              "    </script>\n",
              "  </div>\n",
              "\n",
              "\n",
              "<div id=\"df-e538d3d6-c020-4356-ac58-425ec4e0750d\">\n",
              "  <button class=\"colab-df-quickchart\" onclick=\"quickchart('df-e538d3d6-c020-4356-ac58-425ec4e0750d')\"\n",
              "            title=\"Suggest charts\"\n",
              "            style=\"display:none;\">\n",
              "\n",
              "<svg xmlns=\"http://www.w3.org/2000/svg\" height=\"24px\"viewBox=\"0 0 24 24\"\n",
              "     width=\"24px\">\n",
              "    <g>\n",
              "        <path d=\"M19 3H5c-1.1 0-2 .9-2 2v14c0 1.1.9 2 2 2h14c1.1 0 2-.9 2-2V5c0-1.1-.9-2-2-2zM9 17H7v-7h2v7zm4 0h-2V7h2v10zm4 0h-2v-4h2v4z\"/>\n",
              "    </g>\n",
              "</svg>\n",
              "  </button>\n",
              "\n",
              "<style>\n",
              "  .colab-df-quickchart {\n",
              "      --bg-color: #E8F0FE;\n",
              "      --fill-color: #1967D2;\n",
              "      --hover-bg-color: #E2EBFA;\n",
              "      --hover-fill-color: #174EA6;\n",
              "      --disabled-fill-color: #AAA;\n",
              "      --disabled-bg-color: #DDD;\n",
              "  }\n",
              "\n",
              "  [theme=dark] .colab-df-quickchart {\n",
              "      --bg-color: #3B4455;\n",
              "      --fill-color: #D2E3FC;\n",
              "      --hover-bg-color: #434B5C;\n",
              "      --hover-fill-color: #FFFFFF;\n",
              "      --disabled-bg-color: #3B4455;\n",
              "      --disabled-fill-color: #666;\n",
              "  }\n",
              "\n",
              "  .colab-df-quickchart {\n",
              "    background-color: var(--bg-color);\n",
              "    border: none;\n",
              "    border-radius: 50%;\n",
              "    cursor: pointer;\n",
              "    display: none;\n",
              "    fill: var(--fill-color);\n",
              "    height: 32px;\n",
              "    padding: 0;\n",
              "    width: 32px;\n",
              "  }\n",
              "\n",
              "  .colab-df-quickchart:hover {\n",
              "    background-color: var(--hover-bg-color);\n",
              "    box-shadow: 0 1px 2px rgba(60, 64, 67, 0.3), 0 1px 3px 1px rgba(60, 64, 67, 0.15);\n",
              "    fill: var(--button-hover-fill-color);\n",
              "  }\n",
              "\n",
              "  .colab-df-quickchart-complete:disabled,\n",
              "  .colab-df-quickchart-complete:disabled:hover {\n",
              "    background-color: var(--disabled-bg-color);\n",
              "    fill: var(--disabled-fill-color);\n",
              "    box-shadow: none;\n",
              "  }\n",
              "\n",
              "  .colab-df-spinner {\n",
              "    border: 2px solid var(--fill-color);\n",
              "    border-color: transparent;\n",
              "    border-bottom-color: var(--fill-color);\n",
              "    animation:\n",
              "      spin 1s steps(1) infinite;\n",
              "  }\n",
              "\n",
              "  @keyframes spin {\n",
              "    0% {\n",
              "      border-color: transparent;\n",
              "      border-bottom-color: var(--fill-color);\n",
              "      border-left-color: var(--fill-color);\n",
              "    }\n",
              "    20% {\n",
              "      border-color: transparent;\n",
              "      border-left-color: var(--fill-color);\n",
              "      border-top-color: var(--fill-color);\n",
              "    }\n",
              "    30% {\n",
              "      border-color: transparent;\n",
              "      border-left-color: var(--fill-color);\n",
              "      border-top-color: var(--fill-color);\n",
              "      border-right-color: var(--fill-color);\n",
              "    }\n",
              "    40% {\n",
              "      border-color: transparent;\n",
              "      border-right-color: var(--fill-color);\n",
              "      border-top-color: var(--fill-color);\n",
              "    }\n",
              "    60% {\n",
              "      border-color: transparent;\n",
              "      border-right-color: var(--fill-color);\n",
              "    }\n",
              "    80% {\n",
              "      border-color: transparent;\n",
              "      border-right-color: var(--fill-color);\n",
              "      border-bottom-color: var(--fill-color);\n",
              "    }\n",
              "    90% {\n",
              "      border-color: transparent;\n",
              "      border-bottom-color: var(--fill-color);\n",
              "    }\n",
              "  }\n",
              "</style>\n",
              "\n",
              "  <script>\n",
              "    async function quickchart(key) {\n",
              "      const quickchartButtonEl =\n",
              "        document.querySelector('#' + key + ' button');\n",
              "      quickchartButtonEl.disabled = true;  // To prevent multiple clicks.\n",
              "      quickchartButtonEl.classList.add('colab-df-spinner');\n",
              "      try {\n",
              "        const charts = await google.colab.kernel.invokeFunction(\n",
              "            'suggestCharts', [key], {});\n",
              "      } catch (error) {\n",
              "        console.error('Error during call to suggestCharts:', error);\n",
              "      }\n",
              "      quickchartButtonEl.classList.remove('colab-df-spinner');\n",
              "      quickchartButtonEl.classList.add('colab-df-quickchart-complete');\n",
              "    }\n",
              "    (() => {\n",
              "      let quickchartButtonEl =\n",
              "        document.querySelector('#df-e538d3d6-c020-4356-ac58-425ec4e0750d button');\n",
              "      quickchartButtonEl.style.display =\n",
              "        google.colab.kernel.accessAllowed ? 'block' : 'none';\n",
              "    })();\n",
              "  </script>\n",
              "</div>\n",
              "\n",
              "    </div>\n",
              "  </div>\n"
            ]
          },
          "metadata": {},
          "execution_count": 46
        }
      ],
      "source": [
        "# 실습용 데이터 가져오기 #\n",
        "\n",
        "import pandas\n",
        "aaa = pandas.read_csv('cars.csv')\n",
        "aaa.head()"
      ]
    },
    {
      "cell_type": "code",
      "source": [
        "# matplotlib 불러와서 산점도 그리기 #\n",
        "\n",
        "import matplotlib.pyplot as plt\n",
        "\n",
        "plt.scatter(aaa['hp'],aaa['wt'])\n",
        "plt.show()"
      ],
      "metadata": {
        "id": "HvnuK2_QQQTO"
      },
      "execution_count": null,
      "outputs": []
    },
    {
      "cell_type": "markdown",
      "source": [
        "**1. 그래프 크기 변경 : figsize 매개변수**\n",
        "   - plt.figure(figsize(가로(너비), 세로(높이)))"
      ],
      "metadata": {
        "id": "zhVGQtqzQxxA"
      }
    },
    {
      "cell_type": "code",
      "source": [
        "# 먼저 그래프 크기를 결정 #\n",
        "\n",
        "plt.figure(figsize=(9,6))\n",
        "\n",
        "plt.scatter(aaa['hp'],aaa['wt'], alpha=0.5)\n",
        "plt.show()"
      ],
      "metadata": {
        "id": "wl90L4b7Q9x8"
      },
      "execution_count": null,
      "outputs": []
    },
    {
      "cell_type": "code",
      "source": [
        "# 기본 그래프 크기 확인 및 변경: rcParams #\n",
        "\n",
        "확인 - print(plt.rcParams['figure.figsize'])\n",
        "변경 - plt.rcParams['figure.dpi'] = 숫자, dpi 기본은 72"
      ],
      "metadata": {
        "id": "vHPC6d4mR-OA"
      },
      "execution_count": null,
      "outputs": []
    },
    {
      "cell_type": "markdown",
      "source": [
        "**1. 그래프 크기 변경 : dpi 매개변수**\n",
        "\n",
        "plt.figure(dpi=숫자) - 기본 72임"
      ],
      "metadata": {
        "id": "-5x9WED9SgmA"
      }
    },
    {
      "cell_type": "code",
      "source": [
        "# 먼저 그래프 크기를 결정 #\n",
        "\n",
        "plt.figure(dpi=144)\n",
        "\n",
        "plt.scatter(aaa['hp'],aaa['wt'], alpha=0.3)\n",
        "plt.show()"
      ],
      "metadata": {
        "id": "tw_v1zQISs1h"
      },
      "execution_count": null,
      "outputs": []
    },
    {
      "cell_type": "markdown",
      "source": [
        "**2. 산점도 마커 모양 변경**\n",
        "  - plt.rcParams['scatter.marker']"
      ],
      "metadata": {
        "id": "nch-X771TtlN"
      }
    },
    {
      "cell_type": "code",
      "source": [
        "# 현재 산점도 마커 확인 #\n",
        "\n",
        "plt.rcParams['scatter.marker']"
      ],
      "metadata": {
        "colab": {
          "base_uri": "https://localhost:8080/",
          "height": 35
        },
        "id": "YULnbug5T7Wi",
        "outputId": "80a5ee46-5e86-4616-863e-7812da84d491"
      },
      "execution_count": 15,
      "outputs": [
        {
          "output_type": "execute_result",
          "data": {
            "text/plain": [
              "'o'"
            ],
            "application/vnd.google.colaboratory.intrinsic+json": {
              "type": "string"
            }
          },
          "metadata": {},
          "execution_count": 15
        }
      ]
    },
    {
      "cell_type": "code",
      "source": [
        "# 산점도 변경 - 먼저 변경함 #\n",
        "\n",
        "plt.rcParams['scatter.marker'] = '*'\n",
        "\n",
        "plt.figure(figsize=(7,4))\n",
        "\n",
        "plt.scatter(aaa['hp'],aaa['wt'], color = 'r', alpha=0.5)\n",
        "plt.show()"
      ],
      "metadata": {
        "id": "PMS8cRCrUR7S"
      },
      "execution_count": null,
      "outputs": []
    },
    {
      "cell_type": "markdown",
      "source": [
        "**3. 서브 플롯 그리기**\n",
        "  - subplots() - 그래프 갯수 선택 - 핼렬선언도 가능함\n",
        "  - set.title() - 그래프 제목"
      ],
      "metadata": {
        "id": "T-iFi5UKWdsc"
      }
    },
    {
      "cell_type": "code",
      "source": [
        "# subplots 갯수 선언 #\n",
        "\n",
        "fig, axs = plt.subplots(2, figsize=(6,8))\n",
        "\n",
        "# 첫번째 그래프 #\n",
        "\n",
        "axs[0].scatter(aaa['hp'],aaa['wt'], color = 'b', alpha=0.3)\n",
        "axs[0].set_title('hp VS wt Scatter Plot')\n",
        "\n",
        "# 두번째 그래프 #\n",
        "\n",
        "axs[1].hist(aaa['hp'], bins=10)\n",
        "axs[1].set_title('hp Histogram')\n",
        "\n",
        "fig.show()"
      ],
      "metadata": {
        "id": "Uhe5uacVWvsr"
      },
      "execution_count": null,
      "outputs": []
    },
    {
      "cell_type": "code",
      "source": [
        "# 행렬 subplots 그리기 #\n",
        "# subplots 갯수 선언 #\n",
        "\n",
        "fig, axs = plt.subplots(1,2, figsize=(9,5))\n",
        "\n",
        "# 첫번째 그래프 #\n",
        "\n",
        "axs[0].scatter(aaa['hp'],aaa['wt'], color = 'g', alpha=0.3)\n",
        "axs[0].set_xlabel('hp')\n",
        "axs[0].set_ylabel('wt')\n",
        "axs[0].set_title('hp VS wt Scatter Plot')\n",
        "\n",
        "# 두번째 그래프 #\n",
        "\n",
        "axs[1].boxplot(aaa['hp'])\n",
        "axs[1].set_title('hp Histogram')\n",
        "\n",
        "fig.show()"
      ],
      "metadata": {
        "id": "X3NH8V7TZQJJ"
      },
      "execution_count": null,
      "outputs": []
    },
    {
      "cell_type": "markdown",
      "source": [
        "4. 선그래프 그리기(plot)"
      ],
      "metadata": {
        "id": "gpBfRk-Ia0Sl"
      }
    },
    {
      "cell_type": "code",
      "source": [
        "# 그래프 크기 조정 #\n",
        "\n",
        "plt.rcParams['figure.dpi'] = 100\n",
        "\n",
        "# 선그래프 그리기 #\n",
        "\n",
        "plt.plot(aaa['Year'],aaa['hap'])\n",
        "plt.title('Count by Year')\n",
        "plt.xlabel('Year')\n",
        "plt.ylabel('count')\n",
        "\n",
        "plt.show()\n"
      ],
      "metadata": {
        "id": "np1bDpqIbKQa"
      },
      "execution_count": null,
      "outputs": []
    },
    {
      "cell_type": "code",
      "source": [
        "# 그래프 크기 조정 #\n",
        "\n",
        "plt.rcParams['figure.dpi'] = 100\n",
        "\n",
        "# 선 모양, 색상 변경 #\n",
        "# 선 모양 : :,-,+,-- #\n",
        "\n",
        "plt.plot(aaa['Year'],aaa['hap'], marker='*', linestyle='--', color='g')\n",
        "plt.title('Count by Year')\n",
        "plt.xlabel('Year')\n",
        "plt.ylabel('count')\n",
        "\n",
        "plt.show()"
      ],
      "metadata": {
        "id": "sseczaAlCvVa"
      },
      "execution_count": null,
      "outputs": []
    },
    {
      "cell_type": "code",
      "source": [
        "# 그래프 크기 조정 #\n",
        "\n",
        "plt.rcParams['figure.dpi'] = 100\n",
        "\n",
        "# 데이터 삽입 #\n",
        "\n",
        "plt.plot(aaa['Year'],aaa['hap'], marker='*', linestyle='--', color='g')\n",
        "plt.title('Count by Year')\n",
        "plt.xlabel('Year')\n",
        "plt.ylabel('count')\n",
        "\n",
        "plt.xticks(range(1970,2019,5))\n",
        "\n",
        "for i in range(len(aaa['hap'])):\n",
        "  x = aaa['Year'][i]\n",
        "  y = aaa['hap'][i]\n",
        "  plt.text(x, y+0.25, str(y))\n",
        "\n",
        "plt.show()"
      ],
      "metadata": {
        "id": "Fn7RFGFEEzUw"
      },
      "execution_count": null,
      "outputs": []
    },
    {
      "cell_type": "code",
      "source": [
        "# 막대 그래프 그리기 (bar) #\n",
        "\n",
        "plt.bar(aaa['Year'],aaa['hap'], width=0.8, color = 'g')\n",
        "plt.title('Count by Year')\n",
        "plt.xlabel('Year')\n",
        "plt.ylabel('count')\n",
        "\n",
        "for i in range(len(aaa['hap'])):\n",
        "  x = aaa['Year'][i]\n",
        "  y = aaa['hap'][i]\n",
        "  plt.text(x, y+0.25, str(y))\n",
        "\n",
        "\n",
        "plt.show()\n"
      ],
      "metadata": {
        "id": "IIcMC85ybLbA"
      },
      "execution_count": null,
      "outputs": []
    }
  ]
}